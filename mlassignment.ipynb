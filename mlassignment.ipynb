{
  "cells": [
    {
      "cell_type": "markdown",
      "metadata": {
        "id": "KH1K6cXFvnmj"
      },
      "source": [
        "<div align=\"center\"> <h3><font color='cyan'>CSE 574 Sections C&D: Introduction to Machine Learning, Spring 2022 </font> \n",
        "<h1> Assignment 1 - Python Intro\n",
        "\n",
        "<h3>Checkpoint: February 13, Sun, 11:59pm\n",
        "<h2><font color='red'>Final Due Date: </font> February 20, Sun, 11:59pm</div>\n",
        "\n",
        "Welcome to your first CSE 574 assignment! The goal of this assignment is to sharpen your programming skills needed for this class. It is focused on familiarizing yourself with Python and main data science libraries that will be used for other assignments as well.\n",
        "\n",
        "There are a total of five parts. We will focus on basic Python functions, explore numpy, pandas and matplotlib libraries and analyze the real-world dataset.\n",
        "\n",
        "If you are new to Python, check our [Python resources page](https://ubuffalo-my.sharepoint.com/:w:/g/personal/avereshc_buffalo_edu/ESoUg6v6aoJImaeWXy90SqMBiubxGGAkG7dhaNyhuBum_w?e=3Tlwbz) and our class demos.\n",
        "\n",
        "\n",
        "### Submission\n",
        "\n",
        "All the details you need for this assignment are located within this notebook. You are expected to follow every block and complete the task within the marks ``` # BEGIN_YOUR_CODE ``` and ```# END_YOUR_CODE```, as well as adding an Academic Integrity statement at the beginning within the marks ```# ADD YOUR ACADEMIC INTERGITY STATEMENT``` and ```# END OF YOUR ACADEMIC INTERGITY STATEMENT```. Do not modify or edit code beyond these lines. You can add helper functions in the new cells, if needed. We recommend completing the task within this .ipynb notebook, if needed you can convert it and submit as .py script. Try to make your code as clean and simple as possible and be sure to write your answers between the begin answer and end answer comments.\n",
        "\n",
        "1. Submit at **UBLearns > Assignments**\n",
        "2. The code of your implementations should be written in Python\n",
        "3. All project files should be packed in a ZIP file named YOUR_FIRST_NAME_YOUR_LAST_NAME_assignment1.zip (e.g. alina_vereshchaka_assignment1.zip).\n",
        "4. Your Jupyter notebook should be saved with the results. If you are submitting python scripts, after extracting the ZIP file and executing command python main.py in the first level directory, all the generated results and plots you used in your report should appear printed out in a clear manner.  \n",
        "6. Include all the references that have been used to complete the assignment.\n",
        "\n",
        "### Checkpoint Submission <font color='red'>[Due Date: Feb 13]</font>\n",
        "Complete Part 1, Part 2 and Part 3 and submit the code in the ZIP file named YOUR_FIRST_NAME_YOUR_LAST_NAME_assignment1_checkpoint.zip. Checkpoint will be evaluated after the final submission.\n",
        "\n",
        "### Final Submission <font color='red'>[Due Date: Feb 20]</font>\n",
        "Complete all parts of the assignment and submit the code in the ZIP file named YOUR_FIRST_NAME_YOUR_LAST_NAME_assignment1_final.zip. You may add slight modification to your Checkpoint submission if needed.\n",
        "\n",
        "**Assignment Outline**\n",
        "\n",
        "| Part | Description | # of tasks | Points |\n",
        "| --- | --- | --- | --- |\n",
        "| [Part 1](#part1) | Basics | 10 | 20 |\n",
        "| [Part 2](#part2) | Numpy Basics | 11 | 20 |\n",
        "| [Part 3](#part3) | Algorithms | 2 | 20 |\n",
        "| [Part 4](#part4) | Pandas Basics | 8 | 20 |\n",
        "| [Part 5](#part5) | Matplotlib Basics | 9 | 20 |\n",
        "\n",
        "    \n",
        "### Academic Integrity\n",
        "\n",
        "This assignment must be completed individually.\n",
        "The standing policy of the Department is that all students involved in any academic integrity violation (e.g. plagiarism in any way, shape, or form) will receive an F grade for the course. The catalog describes plagiarism as “Copying or receiving material from any source and submitting that material as one’s own, without acknowledging and citing the particular debts to the source, or in any other manner representing the work of another as one’s own.”. Refer to the [Office of Academic Integrity](https://www.buffalo.edu/academic-integrity.html) for more details.\n",
        "\n",
        "### <font color='red'>IMPORTANT NOTE</font>\n",
        "In order to certify that you followed Academic Integrity policy while completing the assignment, please include the following statement as a comment block. In case you submit multiple files, add this statement at the beginning of each code file submitted: \n",
        "\n",
        "\"I certify that the code and data in this assignment were generated independently, using only the tools and resources defined in the course and that I did not receive any external help, coaching or contributions during the production of this work.\"\n",
        "\n",
        "Submissions without the academic integrity statement will not be evaluated and will receive a 0.\n",
        "\n",
        "### Late Days Policy\n",
        "You can use up to 7 late days throughout the course toward any assignments' checkpoint or final submission. You do not have to inform the instructor, as the late submission will be tracked in UBlearns.\n",
        "\n",
        "### FAQ\n",
        ">What does 'raise Exception(\"Not implemented yet\")' mean?\n",
        "\n",
        "Here we define a custom exception to highlight that the task is not implemented yet. Once you implement your code, ensure to remove this part.\n",
        "\n",
        ">Can I add code beyond # BEGIN_YOUR_CODE parts.\n",
        "\n",
        "Yes, you can add helper functions. Add them in the separate cell with the comments, why you need it\n"
      ]
    },
    {
      "cell_type": "markdown",
      "metadata": {
        "id": "O6uli9LB-LZp"
      },
      "source": [
        "## START COMPLETING YOUR ASSIGNMENT HERE"
      ]
    },
    {
      "cell_type": "code",
      "execution_count": null,
      "metadata": {
        "id": "7agn7rBg-LZq"
      },
      "outputs": [],
      "source": [
        "# ADD YOUR ACADEMIC INTERGITY STATEMENT HERE AS A COMMENT BLOCK BELOW. CHECK IMPORTANT NOTE FOR MORE DETAILS.\n",
        "\n",
        "#\"I certify that the code and data in this assignment were generated independently, using only the tools and resources defined in the course and that I did not receive any external help, coaching or contributions during the production of this work.\"\n",
        "\n",
        "\n",
        "\n",
        "\n",
        "\n",
        "\n",
        "# END OF YOUR ACADEMIC INTERGITY STATEMENT"
      ]
    },
    {
      "cell_type": "markdown",
      "metadata": {
        "id": "RiMGYifjvnmy"
      },
      "source": [
        "<a id='part1'></a>\n",
        "## Part 1 - Pyhton Basics [20 points]"
      ]
    },
    {
      "cell_type": "markdown",
      "metadata": {
        "id": "2LUCpwD6vnm1"
      },
      "source": [
        "The first part of this assignment gives you practice with python syntax. Follow the cells below for the instructions."
      ]
    },
    {
      "cell_type": "code",
      "execution_count": 1,
      "metadata": {
        "colab": {
          "base_uri": "https://localhost:8080/"
        },
        "id": "pYW7jZF2vnm2",
        "outputId": "6e382db1-1a00-463e-9fc8-014498fbedf6"
      },
      "outputs": [
        {
          "output_type": "stream",
          "name": "stdout",
          "text": [
            "Hello\n",
            "Hello\n",
            "Hello\n",
            "Hello\n",
            "Hello\n",
            "Hello\n",
            "Hello\n",
            "Hello\n",
            "Hello\n",
            "Hello\n",
            "Hello\n",
            "Hello\n",
            "Hello\n",
            "Hello\n",
            "Hello\n",
            "Hello\n",
            "Hello\n",
            "Hello\n",
            "Hello\n",
            "Hello\n",
            "Hello\n",
            "Hello\n",
            "Hello\n",
            "Hello\n",
            "Hello\n",
            "Hello\n",
            "Hello\n",
            "Hello\n",
            "Hello\n",
            "Hello\n",
            "Hello\n",
            "Hello\n",
            "Hello\n",
            "Hello\n",
            "Hello\n",
            "Hello\n",
            "Hello\n",
            "Hello\n",
            "Hello\n",
            "Hello\n",
            "Hello\n",
            "Hello\n",
            "Hello\n",
            "Hello\n",
            "Hello\n",
            "Hello\n",
            "Hello\n",
            "Hello\n",
            "Hello\n",
            "Hello\n",
            "Hello\n",
            "Hello\n",
            "Hello\n",
            "Hello\n",
            "Hello\n",
            "Hello\n",
            "Hello\n",
            "Hello\n",
            "Hello\n",
            "Hello\n",
            "Hello\n",
            "Hello\n",
            "Hello\n",
            "Hello\n",
            "Hello\n",
            "Hello\n",
            "Hello\n",
            "Hello\n",
            "Hello\n",
            "Hello\n",
            "Hello\n",
            "Hello\n",
            "Hello\n",
            "Hello\n",
            "Hello\n",
            "Hello\n",
            "Hello\n",
            "Hello\n",
            "Hello\n",
            "Hello\n",
            "Hello\n",
            "Hello\n",
            "Hello\n",
            "Hello\n",
            "Hello\n",
            "Hello\n",
            "Hello\n",
            "Hello\n",
            "Hello\n",
            "Hello\n",
            "Hello\n",
            "Hello\n",
            "Hello\n",
            "Hello\n",
            "Hello\n",
            "Hello\n",
            "Hello\n",
            "Hello\n",
            "Hello\n",
            "Hello\n",
            "Hello\n",
            "\n"
          ]
        }
      ],
      "source": [
        "''' Hello\n",
        "Print a word \"Hello \" 101 times\n",
        "'''\n",
        "\n",
        "\n",
        "# BEGIN_YOUR_CODE\n",
        "print((\"Hello\" + \"\\n\")*101)\n",
        "\n",
        "\n",
        "# END_YOUR_CODE"
      ]
    },
    {
      "cell_type": "code",
      "execution_count": 2,
      "metadata": {
        "colab": {
          "base_uri": "https://localhost:8080/"
        },
        "id": "tFg9fnfx-LZu",
        "outputId": "61d0abd3-4a3c-4250-a785-d4faa678e60c"
      },
      "outputs": [
        {
          "output_type": "stream",
          "name": "stdout",
          "text": [
            "Hello UB\n"
          ]
        }
      ],
      "source": [
        "''' Hello World\n",
        "Using two variables hello and world defined below return 'Hello UB'. \n",
        "'''\n",
        "\n",
        "hello  = 'hello'\n",
        "world = 'ub'\n",
        "\n",
        "# BEGIN_YOUR_CODE\n",
        "hello =hello.capitalize()\n",
        "world = world.upper()\n",
        "print(hello + \" \" +world)\n",
        "\n",
        "# END_YOUR_CODE"
      ]
    },
    {
      "cell_type": "code",
      "execution_count": 3,
      "metadata": {
        "colab": {
          "base_uri": "https://localhost:8080/"
        },
        "id": "WyYYlH7--LZv",
        "outputId": "ce137f8e-8f2b-42d0-ee69-3b685d2aa1e7"
      },
      "outputs": [
        {
          "output_type": "stream",
          "name": "stdout",
          "text": [
            "[0, 1, 2, 3, 4, 5]\n"
          ]
        }
      ],
      "source": [
        "''' Updating elements\n",
        "Given a string my_list, update the third element to '2' and fourth element to '3', so the output is as follows: [0, 1, 2, 3, 4, 5]\n",
        "'''\n",
        "\n",
        "my_list = [0, 1, 'two', 'three', 4, 5]\n",
        "\n",
        "# BEGIN_YOUR_CODE\n",
        "my_list[2:4] = [2,3]\n",
        "print(my_list)\n",
        "\n",
        "\n",
        "# END_YOUR_CODE"
      ]
    },
    {
      "cell_type": "code",
      "execution_count": 4,
      "metadata": {
        "colab": {
          "base_uri": "https://localhost:8080/"
        },
        "id": "MiV9owSI-LZw",
        "outputId": "7b8bfb2d-4bb5-4e0c-f4c6-e09000b0dbdb"
      },
      "outputs": [
        {
          "output_type": "stream",
          "name": "stdout",
          "text": [
            "0\n",
            "1\n",
            "1\n",
            "2\n",
            "3\n",
            "5\n",
            "8\n",
            "13\n",
            "21\n",
            "34\n",
            "55\n",
            "89\n"
          ]
        }
      ],
      "source": [
        "'''Fibonacci Series\n",
        "Print the first 12 Fibonacci numbers\n",
        "'''\n",
        "\n",
        "# BEGIN_YOUR_CODE\n",
        "a=0\n",
        "b=1\n",
        "print(a)\n",
        "print(b)\n",
        "\n",
        "for i in range (10):\n",
        "  c=a+b\n",
        "  a=b\n",
        "  b=c\n",
        "  print(c)\n",
        "\n",
        "\n",
        "\n",
        "# END_YOUR_CODE"
      ]
    },
    {
      "cell_type": "code",
      "execution_count": 5,
      "metadata": {
        "colab": {
          "base_uri": "https://localhost:8080/"
        },
        "id": "eQ7SJvrLvnm5",
        "outputId": "a8fe902f-a56e-48c5-c73e-8e899d4f7080"
      },
      "outputs": [
        {
          "output_type": "stream",
          "name": "stdout",
          "text": [
            "['The Matrix Resurrections', 'The Matrix Revolutions', 'The Matrix Reloaded', 'The Matrix']\n"
          ]
        }
      ],
      "source": [
        "''' Reversing\n",
        "Reverse the order of elements in a list given below, so the output is as follows: ['The Matrix Resurrections', 'The Matrix Revolutions', 'The Matrix Reloaded', 'The Matrix']\n",
        "'''\n",
        "\n",
        "list1 = [\"The Matrix\", \"The Matrix Reloaded\", \"The Matrix Revolutions\", \"The Matrix Resurrections\"]\n",
        "\n",
        "# BEGIN_YOUR_CODE\n",
        "list1.reverse()\n",
        "print(list1)\n",
        "\n",
        "# END_YOUR_CODE"
      ]
    },
    {
      "cell_type": "code",
      "execution_count": 6,
      "metadata": {
        "colab": {
          "base_uri": "https://localhost:8080/"
        },
        "id": "G472Jj3gvnm6",
        "outputId": "c8c43f27-52d3-408a-83be-e39848ce2445"
      },
      "outputs": [
        {
          "output_type": "stream",
          "name": "stdout",
          "text": [
            "python\n"
          ]
        }
      ],
      "source": [
        "'''Concatenating strings\n",
        "Concatenate strings in a list below, so the output is as follows: \"python\"\n",
        "'''\n",
        "\n",
        "list2 = ['p', 'y', 't', 'h', 'o', 'n']\n",
        "\n",
        "# BEGIN_YOUR_CODE\n",
        "list2 = ''.join(list2)\n",
        "print(list2)\n",
        "\n",
        "# END_YOUR_CODE"
      ]
    },
    {
      "cell_type": "code",
      "execution_count": 7,
      "metadata": {
        "colab": {
          "base_uri": "https://localhost:8080/"
        },
        "id": "vsIKrnuFvnm7",
        "outputId": "b0912424-63c7-4523-9c90-a270757b7e9e"
      },
      "outputs": [
        {
          "output_type": "stream",
          "name": "stdout",
          "text": [
            "[0, 1, 2, 3, 4]\n"
          ]
        }
      ],
      "source": [
        "'''Numbering a list\n",
        "Print a numbered list of the famous AI researchers using \"enumerate()\" function\n",
        "'''\n",
        "\n",
        "researchers = ['Yann LeCun', 'Yoshua Bengio', 'Geoffrey Hinton', 'Fei-Fei Li', 'Andrew Ng']\n",
        "\n",
        "# BEGIN_YOUR_CODE\n",
        "my_list = []\n",
        "for count, value in enumerate(researchers):\n",
        "  my_list.append(count)\n",
        "print(my_list)\n",
        "# END_YOUR_CODE"
      ]
    },
    {
      "cell_type": "code",
      "execution_count": 8,
      "metadata": {
        "colab": {
          "base_uri": "https://localhost:8080/"
        },
        "id": "Izsh0n6Hvnm8",
        "outputId": "fd350dbe-de36-41c6-8d46-e27bcfc61dcc"
      },
      "outputs": [
        {
          "output_type": "stream",
          "name": "stdout",
          "text": [
            "[('Yann LeCun', 'Facebook'), ('Yoshua Bengio', 'Université de Montréal'), ('Geoffrey Hinton', 'University of Toronto'), ('Fei-Fei Li', 'Stanford University'), ('Andrew Ng', 'Landing AI')]\n"
          ]
        }
      ],
      "source": [
        "'''Combining lists\n",
        "Combine two lists given below using zip() fucntion and print out the result\n",
        "'''\n",
        "\n",
        "researchers = ['Yann LeCun', 'Yoshua Bengio', 'Geoffrey Hinton', 'Fei-Fei Li', 'Andrew Ng']\n",
        "work = ['Facebook', 'Université de Montréal', 'University of Toronto', 'Stanford University', 'Landing AI']\n",
        "\n",
        "# BEGIN_YOUR_CODE\n",
        "rework = zip(researchers,work)\n",
        "rework_list = list(rework)\n",
        "print(rework_list)\n",
        "# END_YOUR_CODE"
      ]
    },
    {
      "cell_type": "code",
      "execution_count": 9,
      "metadata": {
        "colab": {
          "base_uri": "https://localhost:8080/"
        },
        "id": "X3HAYscz-LZ1",
        "outputId": "15180a32-e535-41b3-ef99-178bc0cadc00"
      },
      "outputs": [
        {
          "output_type": "stream",
          "name": "stdout",
          "text": [
            "[1, 4, 27, 16, 125, 36, 343, 64, 729, 100, 1331, 144]\n"
          ]
        }
      ],
      "source": [
        "'''Print squares of even numbers and cubes of odd numbers for numbers from 1 till 12.\n",
        "So the output comes in the form as follows: [1, 4, 27, 16, 125, 36, ....]\n",
        "'''\n",
        "\n",
        "# BEGIN_YOUR_CODE\n",
        "sqcube=[]\n",
        "for i in range (1,13):\n",
        "  if i%2==0:\n",
        "    sqcube.append(i**2)\n",
        "  else:\n",
        "    sqcube.append(i**3)\n",
        "print(sqcube)\n",
        "    \n",
        "\n",
        "\n",
        "\n",
        "# END_YOUR_CODE"
      ]
    },
    {
      "cell_type": "code",
      "execution_count": 10,
      "metadata": {
        "id": "tM242AlVvnm9"
      },
      "outputs": [],
      "source": [
        "''' Sum function\n",
        "Modify the function below to return a sum of a and b\n",
        "'''\n",
        "\n",
        "def add(a: int, b: int) -> int:\n",
        "    \n",
        "    # BEGIN_YOUR_CODE\n",
        "    #raise Exception(\"Not implemented yet\")\n",
        "    return (a+b)\n",
        "    # END_YOUR_CODE"
      ]
    },
    {
      "cell_type": "markdown",
      "metadata": {
        "id": "o4HwFdtlvnm_"
      },
      "source": [
        "We defined ```add_test``` to test your ```add``` function. For this function we ```import random``` library. This is a very commonly used package that helps to generate random values. For example:\n",
        "\n",
        "``` python\n",
        "random.randint(0, 100) #Returns any random integer from 0 to 100\n",
        "```"
      ]
    },
    {
      "cell_type": "code",
      "execution_count": 11,
      "metadata": {
        "id": "TfVs9QUIvnnA"
      },
      "outputs": [],
      "source": [
        "import random\n",
        "\n",
        "def add_test():\n",
        "    a = random.randint(0, 9)\n",
        "    b = random.randint(0, 9)\n",
        "    result = add(a, b)\n",
        "\n",
        "    return('Value of a is {0}, value of b is {1}, and their sum is {2}.'.format(a, b,result))"
      ]
    },
    {
      "cell_type": "code",
      "execution_count": 12,
      "metadata": {
        "colab": {
          "base_uri": "https://localhost:8080/"
        },
        "id": "cOLrlf2GvnnB",
        "outputId": "97205fb5-d4d5-40c6-f9ec-918eaa6faa1b"
      },
      "outputs": [
        {
          "output_type": "stream",
          "name": "stdout",
          "text": [
            "Value of a is 3, value of b is 5, and their sum is 8.\n"
          ]
        }
      ],
      "source": [
        "# Here we call our function 'add_test' to test your add function with random values\n",
        "if __name__ == '__main__':\n",
        "    print(add_test())"
      ]
    },
    {
      "cell_type": "markdown",
      "metadata": {
        "id": "12yDhDMxvnnB"
      },
      "source": [
        "<a id='part2'></a>\n",
        "## Part 2 - Numpy Basics [20 points]"
      ]
    },
    {
      "cell_type": "markdown",
      "metadata": {
        "id": "-JmI82NyvnnC"
      },
      "source": [
        "In this section we will explore one of the most commonly used package - Numpy. You can refer to the [Official NumPy Guide](https://numpy.org/doc/stable/)."
      ]
    },
    {
      "cell_type": "code",
      "execution_count": 13,
      "metadata": {
        "id": "CstiC-8CvnnC"
      },
      "outputs": [],
      "source": [
        "'''Import the numpy package\n",
        "'''\n",
        "\n",
        "# BEGIN_YOUR_CODE\n",
        "import numpy as num\n",
        "\n",
        "# END_YOUR_CODE"
      ]
    },
    {
      "cell_type": "code",
      "execution_count": 14,
      "metadata": {
        "colab": {
          "base_uri": "https://localhost:8080/"
        },
        "id": "2Cdaj9aTvnnE",
        "outputId": "835808ad-7c45-494a-a728-87bc5f26fb0c"
      },
      "outputs": [
        {
          "output_type": "stream",
          "name": "stdout",
          "text": [
            "[23  1 23 41  9 32 48 41 43 18]\n"
          ]
        }
      ],
      "source": [
        "''' Random integers\n",
        "Create an array of random integers from 0 to 50 with the length 10 using numpy random generator\n",
        "'''\n",
        "\n",
        "# BEGIN_YOUR_CODE\n",
        "generator = num.random.randint(50, size=10)\n",
        "array = num.array(generator)\n",
        "# END_YOUR_CODE\n",
        "\n",
        "print(array)"
      ]
    },
    {
      "cell_type": "code",
      "execution_count": 15,
      "metadata": {
        "colab": {
          "base_uri": "https://localhost:8080/"
        },
        "id": "D_NEdSyVvnnF",
        "outputId": "51e71a8f-284c-4410-82ad-c164b54e3e7a"
      },
      "outputs": [
        {
          "output_type": "stream",
          "name": "stdout",
          "text": [
            "The first 2 elements are [23  1] \n",
            "The last two elements are [43 18] \n",
            "Elements in the middle are [23 41  9 32 48 41].\n"
          ]
        }
      ],
      "source": [
        "''' Slicing\n",
        "Slice the above array and extract the first 2 elements, the last two elements, and all elements that are left in the middle.\n",
        "'''\n",
        "\n",
        "# BEGIN_YOUR_CODE\n",
        "first_two = array[0:2]\n",
        "last_two = array[-2:]\n",
        "middle = array[2:-2]\n",
        "\n",
        "# END_YOUR_CODE\n",
        "\n",
        "print('The first 2 elements are {0} \\nThe last two elements are {1} \\nElements in the middle are {2}.'.format(first_two, last_two, middle))"
      ]
    },
    {
      "cell_type": "code",
      "execution_count": 16,
      "metadata": {
        "colab": {
          "base_uri": "https://localhost:8080/"
        },
        "id": "t6adk9uv-LZ7",
        "outputId": "e2e83b9f-80ad-43ba-f528-67fb4a4c6ca3"
      },
      "outputs": [
        {
          "output_type": "execute_result",
          "data": {
            "text/plain": [
              "[array([23,  1]),\n",
              " array([23, 41]),\n",
              " array([ 9, 32]),\n",
              " array([48, 41]),\n",
              " array([43, 18])]"
            ]
          },
          "metadata": {},
          "execution_count": 16
        }
      ],
      "source": [
        "'''Split an array\n",
        "For the above list 'array' split the list into 5 equal parts  and print it in the form\n",
        "[array([1,2]), array([3,4]), array([5,6]), array([7,8]), array([9,10])]\n",
        "\n",
        "'''\n",
        "\n",
        "# BEGIN_YOUR_CODE\n",
        "num.split(array,5)\n",
        "\n",
        "# END_YOUR_CODE"
      ]
    },
    {
      "cell_type": "code",
      "execution_count": 17,
      "metadata": {
        "colab": {
          "base_uri": "https://localhost:8080/"
        },
        "id": "aEZ5xhh3-LZ8",
        "outputId": "94e457df-910f-4108-cb52-2dbba19f2bcf"
      },
      "outputs": [
        {
          "output_type": "stream",
          "name": "stdout",
          "text": [
            "Unique Elements of array 1 =  [ 1 13 16 64 77 89 90 96]\n",
            "Unique Elements of array 2 =  [ 7 22 26 48 61 66 81 82]\n",
            "Common Elements of both arrays =  []\n"
          ]
        }
      ],
      "source": [
        "'''Generate two arrays of size 10 (integers randomly selected between 1 and 100). \n",
        "Print unique elements of array1 and common elements of both arrays separately\n",
        "'''\n",
        "\n",
        "# BEGIN_YOUR_CODE\n",
        "a1= num.random.randint(1,100,10)\n",
        "array1=num.array(a1)\n",
        "a2=num.random.randint(1,100,10)\n",
        "array2=num.array(a2)\n",
        "unique_elements_array1 = num.unique(array1)\n",
        "unique_elements_array2 = num.unique(array2)                        #for my reference\n",
        "common_elements_array1_array2 = num.intersect1d(array1,array2)\n",
        "print(\"Unique Elements of array 1 = \",unique_elements_array1)\n",
        "print(\"Unique Elements of array 2 = \",unique_elements_array2)       #for my reference\n",
        "print(\"Common Elements of both arrays = \",common_elements_array1_array2)\n",
        "# END_YOUR_CODE"
      ]
    },
    {
      "cell_type": "code",
      "execution_count": 18,
      "metadata": {
        "colab": {
          "base_uri": "https://localhost:8080/"
        },
        "id": "x39Fry3OvnnF",
        "outputId": "ff80f84e-f39f-4e73-8195-4058246b7257"
      },
      "outputs": [
        {
          "output_type": "stream",
          "name": "stdout",
          "text": [
            "(5, 2)\n",
            "[[89 64]\n",
            " [16 90]\n",
            " [96 96]\n",
            " [89 13]\n",
            " [ 1 77]]\n"
          ]
        }
      ],
      "source": [
        "'''Changing dimensions\n",
        "Convert your 1D array defined above to a 2D matrix and print its shape. The final output dimension should be 5x2.\n",
        "'''\n",
        "\n",
        "# BEGIN_YOUR_CODE\n",
        "a2 = num.reshape(array1, (5,2))\n",
        "a1 = num.shape(a2)\n",
        "print(a1)\n",
        "print(a2)\n",
        "# END_YOUR_CODE"
      ]
    },
    {
      "cell_type": "code",
      "execution_count": 19,
      "metadata": {
        "colab": {
          "base_uri": "https://localhost:8080/"
        },
        "id": "GTPk6XwivnnG",
        "outputId": "628fad08-f83d-41b3-b650-8bb52816e30a"
      },
      "outputs": [
        {
          "output_type": "stream",
          "name": "stdout",
          "text": [
            "[1 2 3 4 5 6]\n",
            "(2,)\n"
          ]
        }
      ],
      "source": [
        "'''Changing dimensions\n",
        "Convert a matrix below to 1D array and print its dimension\n",
        "'''\n",
        "\n",
        "A = num.array([[1,2], [3,4], [5,6]])\n",
        "\n",
        "# BEGIN_YOUR_CODE\n",
        "a2=num.shape(a1)\n",
        "a1=num.ravel(A)\n",
        "print(a1)\n",
        "print(a2)\n",
        "\n",
        "\n",
        "# END_YOUR_CODE"
      ]
    },
    {
      "cell_type": "code",
      "execution_count": 20,
      "metadata": {
        "colab": {
          "base_uri": "https://localhost:8080/"
        },
        "id": "ALyMwuojvnnM",
        "outputId": "0c997854-8303-4297-beff-81b69839d267"
      },
      "outputs": [
        {
          "output_type": "stream",
          "name": "stdout",
          "text": [
            "\n",
            "Matrix A is \n",
            "[0.42737378 0.52063413 0.35977515 0.93793271 0.61408745 0.38334771\n",
            " 0.81807461 0.17752863 0.47101189 0.93929647 0.18419743 0.55213946\n",
            " 0.12719666 0.79363392 0.77389142 0.91107162 0.46084475 0.31843197\n",
            " 0.57378281 0.29199529 0.04506971 0.61870852 0.68644557 0.65927926\n",
            " 0.39037651 0.91197265 0.62423475 0.44111159 0.72028127 0.92705785] \n",
            "Matrix B is \n",
            "[0.24559071 0.75616604 0.11731329 0.53805915 0.55960059 0.27975316\n",
            " 0.63372894 0.92375356 0.56705957 0.13331126 0.32710688 0.8368518\n",
            " 0.64476391 0.08987634 0.30306489 0.94453578 0.17991914 0.92285111\n",
            " 0.22454715 0.38445983 0.08448119 0.10443676 0.190385   0.02141207\n",
            " 0.69373207 0.44498362 0.21441772 0.4424768  0.07289218 0.71139019], \n",
            "Their product is \n",
            "[[1.47666629 1.26926683 1.91515203 0.80922026 1.47691964]\n",
            " [1.5531003  1.43189529 1.7098633  0.8382817  1.50590079]\n",
            " [1.54757459 1.52708882 2.31644142 0.82568894 1.30802159]\n",
            " [1.17309749 0.98100642 1.35948392 0.68004227 1.55675719]\n",
            " [1.445213   1.74889077 2.24513102 0.96534073 1.85798655]]\n"
          ]
        }
      ],
      "source": [
        "''' Matrices\n",
        "Create two matrices A and B of size 5X6 and 6X5 respectively with random values from 0 to 1, and perform the dot product on them\n",
        "'''\n",
        "\n",
        "# BEGIN_YOUR_CODE\n",
        "A = num.random.uniform(0,1,30)\n",
        "arrayA= num.array(A)\n",
        "matrixA= num.reshape(arrayA,(5,6))\n",
        "B = num.random.uniform(0,1,30)\n",
        "arrayB=num.array(B)\n",
        "matrixB=num.reshape(arrayB,(6,5))\n",
        "dot_product = num.dot(matrixA,matrixB)\n",
        "# END_YOUR_CODE\n",
        "\n",
        "print('\\nMatrix A is \\n{0} \\nMatrix B is \\n{1}, \\nTheir product is \\n{2}'.format(A, B, dot_product))"
      ]
    },
    {
      "cell_type": "code",
      "execution_count": 21,
      "metadata": {
        "id": "cf2kSBLXvnnN",
        "colab": {
          "base_uri": "https://localhost:8080/"
        },
        "outputId": "9e3ace8c-6b26-4a00-e795-17a1f5e1d85e"
      },
      "outputs": [
        {
          "output_type": "stream",
          "name": "stdout",
          "text": [
            "[0.9379327061707454, 0.9392964650769003, 0.9110716231136495, 0.6864455674430219, 0.9270578499966456]\n"
          ]
        }
      ],
      "source": [
        "''' Maximum value\n",
        "Return the maximum value present in each row of Matrix A created in the previous question. \n",
        "Result should come in the form: [row1_max row2_max row3_max row4_max row5_max]\n",
        "'''\n",
        "\n",
        "# BEGIN_YOUR_CODE\n",
        "array= [max(i) for i in matrixA]\n",
        "print(array)\n",
        "\n",
        "# END_YOUR_CODE"
      ]
    },
    {
      "cell_type": "code",
      "execution_count": 22,
      "metadata": {
        "id": "khuCG55GvnnO",
        "colab": {
          "base_uri": "https://localhost:8080/"
        },
        "outputId": "4a4ea6d9-9db5-4fa8-a594-8a5e546c1383"
      },
      "outputs": [
        {
          "output_type": "execute_result",
          "data": {
            "text/plain": [
              "array([[1.28212135, 1.56190239, 1.07932546, 2.81379812, 1.84226236,\n",
              "        1.15004312],\n",
              "       [2.45422383, 0.53258589, 1.41303566, 2.8178894 , 0.5525923 ,\n",
              "        1.65641838],\n",
              "       [0.38158997, 2.38090177, 2.32167427, 2.73321487, 1.38253425,\n",
              "        0.9552959 ],\n",
              "       [1.72134844, 0.87598588, 0.13520913, 1.85612557, 2.0593367 ,\n",
              "        1.97783777],\n",
              "       [1.17112952, 2.73591794, 1.87270425, 1.32333476, 2.16084381,\n",
              "        2.78117355]])"
            ]
          },
          "metadata": {},
          "execution_count": 22
        }
      ],
      "source": [
        "from numpy import ma\n",
        "''' Multiply the Matrix A from previous question with a scalar 3\n",
        "'''\n",
        "\n",
        "# BEGIN_YOUR_CODE\n",
        "alpha = 3\n",
        "num.multiply(matrixA,alpha)\n",
        "\n",
        "# END_YOUR_CODE"
      ]
    },
    {
      "cell_type": "code",
      "execution_count": 23,
      "metadata": {
        "id": "KVFM3ERnvnnP",
        "colab": {
          "base_uri": "https://localhost:8080/"
        },
        "outputId": "e7157236-9d06-442b-c2c2-04c9ee3dd665"
      },
      "outputs": [
        {
          "output_type": "stream",
          "name": "stdout",
          "text": [
            "\n",
            "Matrix A is \n",
            "[1 4 0 1 0 0 7 7] \n",
            "Matrix B is \n",
            "[9 1 5 0 8 2 9 9], \n",
            "Their element-wise multiplication is \n",
            "[[ 9  4  0  0]\n",
            " [ 0  0 63 63]]\n"
          ]
        }
      ],
      "source": [
        "''' Element-wise multiplication\n",
        "Define two matrices A and B 2x4 with random values from 0 to 9. Perform element-wise multiplication of Matrices A and B\n",
        "''' \n",
        "\n",
        "# BEGIN_YOUR_CODE\n",
        "A = num.random.randint(0,10,8)\n",
        "arrayA= num.array(A)\n",
        "matrixA= num.reshape(arrayA,(2,4))\n",
        "B = num.random.randint(0,10,8)\n",
        "arrayB= num.array(B)\n",
        "matrixB= num.reshape(arrayB,(2,4))\n",
        "multiplicaiton = num.multiply(matrixA,matrixB)\n",
        "# END_YOUR_CODE\n",
        "\n",
        "print('\\nMatrix A is \\n{0} \\nMatrix B is \\n{1}, \\nTheir element-wise multiplication is \\n{2}'.format(A, B, multiplicaiton))"
      ]
    },
    {
      "cell_type": "markdown",
      "metadata": {
        "id": "uiyFNoJivnnQ"
      },
      "source": [
        "<a id='part3'></a>\n",
        "## Part 3 - Algorithms [30 points]"
      ]
    },
    {
      "cell_type": "markdown",
      "metadata": {
        "id": "bE9PC_sEvnnQ"
      },
      "source": [
        "### Euclidian Distance\n",
        "\n",
        "Let point $p$ have Cartesian coordinates $(p_1,p_2)$ and let point $q$ have coordinates $(q_1,q_2)$. Then the distance between $p$ and $q$ is given by:\n",
        "    $d(p,q) = \\sqrt{(q_1-p_1)^2 + (q_2-p_2)^2}$.</math>"
      ]
    },
    {
      "cell_type": "code",
      "execution_count": 24,
      "metadata": {
        "id": "eWfSpbVqvnnR"
      },
      "outputs": [],
      "source": [
        "''' Euclidean distance\n",
        "Using numpy library return the Euclidean distance between two locations, where the locations are pairs of numbers (e.g., (3, 5)) '''\n",
        "\n",
        "def euclidean_distance(loc1: int, loc2: int) -> float:\n",
        "\n",
        "    # BEGIN_YOUR_CODE\n",
        "    return num.sqrt(num.power((loc2[0]-loc1[0]),2)+num.power((loc2[0]-loc1[0]),2))\n",
        "    # END_YOUR_CODE"
      ]
    },
    {
      "cell_type": "code",
      "execution_count": 25,
      "metadata": {
        "id": "aKXPrvGBvnnR"
      },
      "outputs": [],
      "source": [
        "def euclidean_distance_test():\n",
        "    random.seed(34)\n",
        "    for _ in range(10):\n",
        "        x1 = random.randint(0, 10)\n",
        "        x2 = random.randint(0, 10)\n",
        "        y1 = random.randint(0, 10)\n",
        "        y2 = random.randint(0, 10)\n",
        "        dist = euclidean_distance((x1, x2), (y1, y2))\n",
        "    return('Loc1 is ({0}, {1}), loc2 is ({2}, {3}). Euclidian disctance is {4}.'.format(x1, x2, y1, y2, dist))"
      ]
    },
    {
      "cell_type": "code",
      "execution_count": 26,
      "metadata": {
        "colab": {
          "base_uri": "https://localhost:8080/"
        },
        "id": "yI3g4R1hvnnR",
        "outputId": "76121a96-9a7b-4be4-e75b-b08ae60356c4"
      },
      "outputs": [
        {
          "output_type": "stream",
          "name": "stdout",
          "text": [
            "Loc1 is (5, 3), loc2 is (3, 7). Euclidian disctance is 2.8284271247461903.\n"
          ]
        }
      ],
      "source": [
        "if __name__ == '__main__':\n",
        "    print(euclidean_distance_test())"
      ]
    },
    {
      "cell_type": "markdown",
      "metadata": {
        "id": "lTuFruDrvnnR"
      },
      "source": [
        "### String Operations"
      ]
    },
    {
      "cell_type": "code",
      "execution_count": 27,
      "metadata": {
        "id": "AGJHIeXkvnnS"
      },
      "outputs": [],
      "source": [
        "''' Alphabetically first word\n",
        "Given a string, lowecase, sort our all words in the alphabetical order and return the word that comes first.\n",
        "If the input text is an empty string, return an empty string or throw an error. '''\n",
        "\n",
        "def first_word(text: str) -> str:\n",
        "    \n",
        "    # BEGIN_YOUR_CODE\n",
        "    new_text = text.lower()\n",
        "    #print(new_text)\n",
        "    new_text1 = new_text.split(\" \")\n",
        "    #print(new_text1)\n",
        "    new_text2 = num.sort(new_text1)\n",
        "    #print(new_text2)\n",
        "    return new_text2[0]\n",
        "    # END_YOUR_CODE"
      ]
    },
    {
      "cell_type": "code",
      "execution_count": 28,
      "metadata": {
        "id": "Suevhw9TvnnS"
      },
      "outputs": [],
      "source": [
        "def first_word_test():\n",
        "    result0 = first_word('WelCome tO Ub')\n",
        "    result1 = first_word('CSE574 IntRo to ML cLasS')\n",
        "    result2 = first_word('SequenCes of DeCiSions')\n",
        "    result3 = first_word('Wolf, Panther, Leopard, Dog, Cat')\n",
        "    return result0, result1, result2, result3"
      ]
    },
    {
      "cell_type": "code",
      "execution_count": 29,
      "metadata": {
        "id": "DfSoFXLrvnnT",
        "colab": {
          "base_uri": "https://localhost:8080/"
        },
        "outputId": "a2e85028-821d-4044-deaf-b179c7378c39"
      },
      "outputs": [
        {
          "output_type": "stream",
          "name": "stdout",
          "text": [
            "('to', 'class', 'decisions', 'cat')\n"
          ]
        }
      ],
      "source": [
        "if __name__ == '__main__':\n",
        "    print(first_word_test())"
      ]
    },
    {
      "cell_type": "markdown",
      "metadata": {
        "id": "zW6tTqawDOBv"
      },
      "source": [
        "## Load from Drive*\n",
        "\n",
        "*If you are using Goolge Colab, uncomment the following piece of code and verify the file using the command, if you can see your file ```museum.csv``` you are good to go."
      ]
    },
    {
      "cell_type": "code",
      "execution_count": 32,
      "metadata": {
        "id": "toyqFBGp-LaB",
        "colab": {
          "base_uri": "https://localhost:8080/"
        },
        "outputId": "03533cf5-ddf5-4618-f848-e5e60ff49201"
      },
      "outputs": [
        {
          "output_type": "stream",
          "name": "stdout",
          "text": [
            "/content/drive/MyDrive\n",
            " 1C06150F-2219-4F6C-AB2E-E1DC373B8557.jpeg  'Pratik Demo.pptx'\n",
            " 79EFC383-1F4A-42E9-8602-32F394098B05.jpeg  'Prat Resume.pdf'\n",
            " Assessment.gform\t\t\t    'Untitled document.gdoc'\n",
            "'Colab Notebooks'\t\t\t    'Untitled form.gform'\n",
            " museums.csv\t\t\t\t    'Untitled presentation (1).gslides'\n",
            "'Pratik 20-21.gsheet'\t\t\t    'Untitled presentation.gslides'\n",
            "'Pratik Demo.gslides'\t\t\t    'Vedic Class.gsheet'\n"
          ]
        }
      ],
      "source": [
        "!pwd\n",
        "!ls"
      ]
    },
    {
      "cell_type": "code",
      "execution_count": 33,
      "metadata": {
        "id": "nV7Jv5SPDGsy",
        "colab": {
          "base_uri": "https://localhost:8080/"
        },
        "outputId": "8a0ced37-2683-4461-dc36-243cd0da36e8"
      },
      "outputs": [
        {
          "output_type": "stream",
          "name": "stdout",
          "text": [
            "Drive already mounted at /content/drive; to attempt to forcibly remount, call drive.mount(\"/content/drive\", force_remount=True).\n",
            "/content/drive\n",
            "/content/drive/MyDrive\n"
          ]
        }
      ],
      "source": [
        "from google.colab import drive\n",
        "drive.mount('/content/drive')\n",
        "%cd ..\n",
        "%cd /content/drive/MyDrive"
      ]
    },
    {
      "cell_type": "markdown",
      "metadata": {
        "id": "zGMa8NVpvnnU"
      },
      "source": [
        "<a id='part4'></a>\n",
        "##  Part 4 - Pandas Basics [20 points]\n",
        "\n",
        "Some important resources:\n",
        "\n",
        "- [A Pandas guide](https://pandasguide.readthedocs.io/en/latest/) covers fundamental information about the package\n",
        "\n",
        "- [Pandas Cheat Sheet](https://www.datacamp.com/community/blog/python-pandas-cheat-sheet)"
      ]
    },
    {
      "cell_type": "code",
      "execution_count": 34,
      "metadata": {
        "id": "-JA6l-hpvnnU"
      },
      "outputs": [],
      "source": [
        "'''Install and import pandas library\n",
        "'''\n",
        "\n",
        "# BEGIN_YOUR_CODE\n",
        "import pandas as pd\n",
        "\n",
        "\n",
        "# END_YOUR_CODE"
      ]
    },
    {
      "cell_type": "code",
      "execution_count": 35,
      "metadata": {
        "id": "vNYL_RNyvnnV",
        "colab": {
          "base_uri": "https://localhost:8080/"
        },
        "outputId": "cd6df8f9-b4e5-40cf-d2bd-fcc699daa2a2"
      },
      "outputs": [
        {
          "output_type": "stream",
          "name": "stdout",
          "text": [
            "        Museum ID  ...    Revenue\n",
            "0      8400200098  ...   550236.0\n",
            "1      8400200117  ...  1323742.0\n",
            "2      8400200153  ...   729080.0\n",
            "3      8400200143  ...        0.0\n",
            "4      8400200027  ...   550236.0\n",
            "...           ...  ...        ...\n",
            "33067  8405600184  ...        NaN\n",
            "33068  8405600061  ...        0.0\n",
            "33069  8405600158  ...    83981.0\n",
            "33070  8405600137  ...        0.0\n",
            "33071  8405600199  ...   126762.0\n",
            "\n",
            "[33072 rows x 25 columns]\n"
          ]
        },
        {
          "output_type": "stream",
          "name": "stderr",
          "text": [
            "/usr/local/lib/python3.7/dist-packages/IPython/core/interactiveshell.py:2882: DtypeWarning: Columns (9,14,21) have mixed types.Specify dtype option on import or set low_memory=False.\n",
            "  exec(code_obj, self.user_global_ns, self.user_ns)\n"
          ]
        }
      ],
      "source": [
        "'''Read given 'DataFile' and extract into Dataframe\n",
        "'''\n",
        "\n",
        "# BEGIN_YOUR_CODE\n",
        "datafile = pd.read_csv('museums.csv')\n",
        "print(datafile)\n",
        "\n",
        "# END_YOUR_CODE"
      ]
    },
    {
      "cell_type": "code",
      "execution_count": 36,
      "metadata": {
        "id": "nQhbLF7CvnnV",
        "colab": {
          "base_uri": "https://localhost:8080/"
        },
        "outputId": "2d879061-543e-4ef1-8224-726f69098bbd"
      },
      "outputs": [
        {
          "output_type": "stream",
          "name": "stdout",
          "text": [
            "          Museum ID  Zip Code (Physical Location)  ...        Income       Revenue\n",
            "count  3.307200e+04                   9221.000000  ...  2.296100e+04  2.229000e+04\n",
            "mean   8.403812e+09                  47805.644616  ...  1.069682e+08  2.097605e+07\n",
            "std    2.662542e+06                  30210.265032  ...  2.509287e+09  2.485197e+08\n",
            "min    8.400100e+09                   1002.000000  ... -9.230000e+02 -2.127393e+06\n",
            "25%    8.401801e+09                  20180.000000  ...  0.000000e+00  0.000000e+00\n",
            "50%    8.403600e+09                  47448.000000  ...  8.781000e+03  3.307000e+03\n",
            "75%    8.404801e+09                  74743.000000  ...  2.163770e+05  1.676960e+05\n",
            "max    8.409504e+09                  99901.000000  ...  8.318144e+10  5.840349e+09\n",
            "\n",
            "[8 rows x 11 columns]\n"
          ]
        }
      ],
      "source": [
        "'''Provide the main statistics about the entries of the dataset (mean, std, etc.)\n",
        "'''\n",
        "\n",
        "# BEGIN_YOUR_CODE\n",
        "print(datafile.describe())\n",
        "\n",
        "# END_YOUR_CODE"
      ]
    },
    {
      "cell_type": "code",
      "execution_count": 37,
      "metadata": {
        "id": "JnuZGhGwvnnW",
        "colab": {
          "base_uri": "https://localhost:8080/"
        },
        "outputId": "e71fc0f4-ee6c-4553-bbb2-5f6e20312849"
      },
      "outputs": [
        {
          "output_type": "stream",
          "name": "stdout",
          "text": [
            "(33072, 25)\n"
          ]
        }
      ],
      "source": [
        "''' Print shape of the dataset '''\n",
        "\n",
        "# BEGIN_YOUR_CODE\n",
        "print(datafile.shape)\n",
        "# END_YOUR_CODE"
      ]
    },
    {
      "cell_type": "code",
      "execution_count": 38,
      "metadata": {
        "id": "nFWD5zl8vnne",
        "colab": {
          "base_uri": "https://localhost:8080/"
        },
        "outputId": "f7cc84a5-f67d-4735-cd7c-2d29cb1037ed"
      },
      "outputs": [
        {
          "output_type": "stream",
          "name": "stdout",
          "text": [
            "Index(['Museum ID', 'Museum Name', 'Legal Name', 'Alternate Name',\n",
            "       'Museum Type', 'Institution Name',\n",
            "       'Street Address (Administrative Location)',\n",
            "       'City (Administrative Location)', 'State (Administrative Location)',\n",
            "       'Zip Code (Administrative Location)',\n",
            "       'Street Address (Physical Location)', 'City (Physical Location)',\n",
            "       'State (Physical Location)', 'Zip Code (Physical Location)',\n",
            "       'Phone Number', 'Latitude', 'Longitude', 'Locale Code (NCES)',\n",
            "       'County Code (FIPS)', 'State Code (FIPS)', 'Region Code (AAM)',\n",
            "       'Employer ID Number', 'Tax Period', 'Income', 'Revenue'],\n",
            "      dtype='object')\n"
          ]
        }
      ],
      "source": [
        "''' Return all the colums names'''\n",
        "\n",
        "# BEGIN_YOUR_CODE\n",
        "print(datafile.columns)\n",
        "\n",
        "# END_YOUR_CODE"
      ]
    },
    {
      "cell_type": "code",
      "execution_count": 39,
      "metadata": {
        "id": "6-1Dj0sGvnng",
        "colab": {
          "base_uri": "https://localhost:8080/"
        },
        "outputId": "c79ff236-2e88-44f8-fdc1-293bbf7b0756"
      },
      "outputs": [
        {
          "output_type": "stream",
          "name": "stdout",
          "text": [
            "Museum ID                                     int64\n",
            "Museum Name                                  object\n",
            "Legal Name                                   object\n",
            "Alternate Name                               object\n",
            "Museum Type                                  object\n",
            "Institution Name                             object\n",
            "Street Address (Administrative Location)     object\n",
            "City (Administrative Location)               object\n",
            "State (Administrative Location)              object\n",
            "Zip Code (Administrative Location)           object\n",
            "Street Address (Physical Location)           object\n",
            "City (Physical Location)                     object\n",
            "State (Physical Location)                    object\n",
            "Zip Code (Physical Location)                float64\n",
            "Phone Number                                 object\n",
            "Latitude                                    float64\n",
            "Longitude                                   float64\n",
            "Locale Code (NCES)                          float64\n",
            "County Code (FIPS)                          float64\n",
            "State Code (FIPS)                           float64\n",
            "Region Code (AAM)                             int64\n",
            "Employer ID Number                           object\n",
            "Tax Period                                  float64\n",
            "Income                                      float64\n",
            "Revenue                                     float64\n",
            "dtype: object\n"
          ]
        }
      ],
      "source": [
        "''' Print a list of museums types '''\n",
        "\n",
        "# BEGIN_YOUR_CODE\n",
        "print(datafile.dtypes)\n",
        "\n",
        "# END_YOUR_CODE"
      ]
    },
    {
      "cell_type": "code",
      "execution_count": 40,
      "metadata": {
        "id": "wUSzjQC3vnng",
        "colab": {
          "base_uri": "https://localhost:8080/"
        },
        "outputId": "ea3b00e4-a068-46bc-8b91-0ef46a034cf0"
      },
      "outputs": [
        {
          "output_type": "stream",
          "name": "stdout",
          "text": [
            "Index(['Museum ID', 'Museum Name', 'Legal Name', 'Alternate Name',\n",
            "       'Museum Type', 'Institution Name',\n",
            "       'Street Address (Administrative Location)',\n",
            "       'City (Administrative Location)', 'State (Administrative Location)',\n",
            "       'Zip Code (Administrative Location)',\n",
            "       'Street Address (Physical Location)', 'City (Physical Location)',\n",
            "       'State (Physical Location)', 'Zip Code (Physical Location)',\n",
            "       'Phone Number', 'Latitude', 'Longitude', 'Locale Code (NCES)',\n",
            "       'County Code (FIPS)', 'State Code (FIPS)', 'Region Code (AAM)',\n",
            "       'Employer ID Number', 'Tax Period', 'Income', 'Revenue'],\n",
            "      dtype='object')\n"
          ]
        }
      ],
      "source": [
        "''' Return insight about index(columns) of museum.csv '''\n",
        "\n",
        "# BEGIN_YOUR_CODE\n",
        "print(datafile.columns)\n",
        "# END_YOUR_CODE"
      ]
    },
    {
      "cell_type": "code",
      "execution_count": 41,
      "metadata": {
        "id": "uyp6lf4k-LaG",
        "colab": {
          "base_uri": "https://localhost:8080/"
        },
        "outputId": "05f4c653-90e6-4499-e796-1060f909214c"
      },
      "outputs": [
        {
          "output_type": "stream",
          "name": "stdout",
          "text": [
            "    Museum ID  ...    Revenue\n",
            "0  8400200098  ...   550236.0\n",
            "1  8400200117  ...  1323742.0\n",
            "2  8400200153  ...   729080.0\n",
            "3  8400200143  ...        0.0\n",
            "4  8400200027  ...   550236.0\n",
            "5  8400200096  ...        NaN\n",
            "6  8400200078  ...    34374.0\n",
            "7  8400200084  ...    16500.0\n",
            "8  8400200107  ...        0.0\n",
            "9  8400200073  ...    31393.0\n",
            "\n",
            "[10 rows x 25 columns]\n"
          ]
        }
      ],
      "source": [
        "'''Print top 10 rows of the dataset'''\n",
        "\n",
        "# BEGIN_YOUR_CODE\n",
        "print(datafile.head(10))\n",
        "\n",
        "# END_YOUR_CODE"
      ]
    },
    {
      "cell_type": "markdown",
      "metadata": {
        "id": "YNq5ppEGvnnh"
      },
      "source": [
        "<a id='part5'></a>\n",
        "## Matplotlib Basics [20 points]"
      ]
    },
    {
      "cell_type": "markdown",
      "metadata": {
        "id": "MyidlhZlIPa2"
      },
      "source": [
        "Heatmaps are a useful plot tool which help us visualize the data density or distribution. Refer the below documentation for more details on heatmap.\n",
        "\n",
        "[Matplotlib tutorial](https://machinelearningknowledge.ai/matplotlib-heatmap-complete-tutorial-for-beginners/)\n",
        "\n",
        "**Note:** You can only use matplotlib library for the following tasks"
      ]
    },
    {
      "cell_type": "code",
      "execution_count": 49,
      "metadata": {
        "id": "bfFqEdGEvnnh"
      },
      "outputs": [],
      "source": [
        "''' Install and import matplotlib library\n",
        "'''\n",
        "\n",
        "# BEGIN_YOUR_CODE\n",
        "import matplotlib as plt\n",
        "import matplotlib.pyplot as plt\n",
        "\n",
        "\n",
        "\n",
        "# END_YOUR_CODE"
      ]
    },
    {
      "cell_type": "code",
      "execution_count": 52,
      "metadata": {
        "id": "25-jR3OHstb_",
        "colab": {
          "base_uri": "https://localhost:8080/",
          "height": 439
        },
        "outputId": "66ce16e2-b134-4c56-8af0-d23db20180e9"
      },
      "outputs": [
        {
          "output_type": "stream",
          "name": "stdout",
          "text": [
            "[[69 80 80 34 22  2  1 82 75 39 43 70  4 31 92]\n",
            " [78 22 28 81 38 41 81 37 11 99 24 83 10  7 39]\n",
            " [99 52 43  7 85 13  4 30  5 61 82 51 60  2 11]\n",
            " [19 77 35 73  1 97 32 79 23 74 40 97 99 61 44]\n",
            " [86 89 66 97 90  6 71 18 46 94  8 48 88 14 10]\n",
            " [62 24  6 47 76 34  3 12 83 72  2 16 58 33  3]\n",
            " [11 16 60 78 12 55 51 75  5 47 48 19 68 90 69]\n",
            " [83 16  4 33 90 43 87 91 83 97 56 76 11 79 62]\n",
            " [98 87  4 26 84 73 71 94 94 83 37 63  3 98 14]\n",
            " [31 55 94  4  4 74 25 23 42 88 37 43 60 89 50]]\n"
          ]
        },
        {
          "output_type": "display_data",
          "data": {
            "image/png": "[encoded data removed]",
            "text/plain": [
              "<Figure size 432x288 with 1 Axes>"
            ]
          },
          "metadata": {
            "needs_background": "light"
          }
        }
      ],
      "source": [
        "''' Heatmap\n",
        "Take any random numpy array of dimension 10x15 and plot a heatmap\n",
        "'''\n",
        "\n",
        "# BEGIN YOUR CODE\n",
        "arr= num.random.randint(0,100,150)\n",
        "array=arr.reshape(10, 15)\n",
        "print(array)\n",
        "plt.imshow(array, cmap='cool', interpolation='nearest')\n",
        "plt.show()\n",
        "# END YOUR CODE"
      ]
    },
    {
      "cell_type": "code",
      "execution_count": 54,
      "metadata": {
        "id": "VD6WIdUU4-PA",
        "colab": {
          "base_uri": "https://localhost:8080/",
          "height": 265
        },
        "outputId": "33d99375-e394-492c-9e9b-edba11850c4f"
      },
      "outputs": [
        {
          "output_type": "display_data",
          "data": {
            "image/png": "[encoded data removed]",
            "text/plain": [
              "<Figure size 432x288 with 1 Axes>"
            ]
          },
          "metadata": {
            "needs_background": "light"
          }
        }
      ],
      "source": [
        "'''For the given value x plot the function y = 1/x using list comprehension on y.\n",
        "You can check https://docs.python.org/3/tutorial/datastructures.html#list-comprehensions to learn how to use list comprehension\n",
        "'''\n",
        "\n",
        "x = range(25)\n",
        "\n",
        "# BEGIN YOUR CODE\n",
        "y = [1/i for i in x[1:]]\n",
        "plt.scatter(x[1:],y)\n",
        "plt.show()\n",
        "# END YOUR CODE"
      ]
    },
    {
      "cell_type": "code",
      "execution_count": 57,
      "metadata": {
        "id": "GB4uqfd8K495",
        "colab": {
          "base_uri": "https://localhost:8080/",
          "height": 268
        },
        "outputId": "82c80992-a3f8-4a66-b070-cfe9e4c3cb57"
      },
      "outputs": [
        {
          "output_type": "display_data",
          "data": {
            "image/png": "[encoded data removed]",
            "text/plain": [
              "<Figure size 432x288 with 1 Axes>"
            ]
          },
          "metadata": {
            "needs_background": "light"
          }
        }
      ],
      "source": [
        "'''For the given value x plot the function y = x^2 using lambda function y.\n",
        "\n",
        "Lambda function is a small anonymous function which consist of a single expression, and is usually used when we need the function for a smaller duration\n",
        "https://realpython.com/python-lambda/\n",
        "'''\n",
        "\n",
        "x = range(25)\n",
        "\n",
        "# BEGIN YOUR CODE\n",
        "y = lambda a: a*a\n",
        "y1 = [y(i) for i in x]\n",
        "plt.scatter(x,y1)\n",
        "plt.show()\n",
        "\n",
        "# END YOUR CODE\n"
      ]
    },
    {
      "cell_type": "code",
      "execution_count": 62,
      "metadata": {
        "id": "VzgNVk-Q-LaJ",
        "colab": {
          "base_uri": "https://localhost:8080/",
          "height": 265
        },
        "outputId": "ed092e0c-f73c-482d-a7b3-c87626339b9d"
      },
      "outputs": [
        {
          "output_type": "display_data",
          "data": {
            "image/png": "[encoded data removed]",
            "text/plain": [
              "<Figure size 432x288 with 1 Axes>"
            ]
          },
          "metadata": {
            "needs_background": "light"
          }
        }
      ],
      "source": [
        "'''On one graph draw two lines:\n",
        "1) Plot the function y = x^2 using lambda function y (use your code from above)\n",
        "2) A scatter plot for y = x^3 using either list comprehension or lambda function for evaluating y\n",
        "'''\n",
        "\n",
        "x = range(25)\n",
        "\n",
        "# BEGIN YOUR CODE\n",
        "y = lambda a: a*a\n",
        "z = lambda a: a*a*a\n",
        "y1 = [y(i) for i in x]\n",
        "z1 = [z(i) for i in x]\n",
        "plt.plot(x,y1, label = 'curve1')\n",
        "plt.plot(x,z1, label = 'curve2')\n",
        "plt.legend()\n",
        "plt.show()\n",
        "# END YOUR CODE"
      ]
    },
    {
      "cell_type": "code",
      "execution_count": 82,
      "metadata": {
        "id": "AEbDCKYH7UfV",
        "colab": {
          "base_uri": "https://localhost:8080/",
          "height": 311
        },
        "outputId": "63358cfb-0322-47df-c1df-d793ea0b8605"
      },
      "outputs": [
        {
          "output_type": "execute_result",
          "data": {
            "text/plain": [
              "(-5.0, 5.0)"
            ]
          },
          "metadata": {},
          "execution_count": 82
        },
        {
          "output_type": "display_data",
          "data": {
            "image/png": "[encoded data removed]",
            "text/plain": [
              "<Figure size 432x288 with 2 Axes>"
            ]
          },
          "metadata": {
            "needs_background": "light"
          }
        }
      ],
      "source": [
        "'''Create subplots showing graphs of tan and cot side by side of each other\n",
        "the value of theta ranges from -30 to 30\n",
        "\n",
        "HINT: You might want to utilize np.linespace() or np.arrange() to create smooth curves\n",
        "'''\n",
        "\n",
        "import math\n",
        "\n",
        "# BEGIN YOUR CODE\n",
        "x = num.linspace(-30, 30, 1000)\n",
        "fig, (ax1, ax2) = plt.subplots(1,2)\n",
        "fig.suptitle(\"Tan and cot graphs\")\n",
        "ax1.plot(x, num.tan(x))\n",
        "ax2.plot(x,1/num.tan(x))\n",
        "\n",
        "plt.ylim(-5, 5)\n",
        "\n",
        "# END YOUR CODE"
      ]
    },
    {
      "cell_type": "code",
      "execution_count": 83,
      "metadata": {
        "id": "P3zujprH-LaJ",
        "colab": {
          "base_uri": "https://localhost:8080/",
          "height": 282
        },
        "outputId": "5aa0e3ae-3e13-4ec6-ea42-4f464e440424"
      },
      "outputs": [
        {
          "output_type": "execute_result",
          "data": {
            "text/plain": [
              "<matplotlib.legend.Legend at 0x7fa9a5601810>"
            ]
          },
          "metadata": {},
          "execution_count": 83
        },
        {
          "output_type": "display_data",
          "data": {
            "image/png": "[encoded data removed]",
            "text/plain": [
              "<Figure size 432x288 with 1 Axes>"
            ]
          },
          "metadata": {
            "needs_background": "light"
          }
        }
      ],
      "source": [
        "'''Draw a line for given GPAs of students [3.5, 2.3, 3.8, 2.4, 2.9, 3.3] using markers\n",
        "'''\n",
        "\n",
        "# BEGIN_YOUR_CODE\n",
        "GPA = [3.5, 2.3, 3.8, 2.4, 2.9, 3.3]\n",
        "plt.plot(GPA, linestyle = '-', marker = 'o', label = 'gpa')\n",
        "plt.legend()\n",
        "\n",
        "# END_YOUR_CODE"
      ]
    },
    {
      "cell_type": "code",
      "execution_count": 84,
      "metadata": {
        "id": "dAXtgX7--LaK",
        "colab": {
          "base_uri": "https://localhost:8080/",
          "height": 551
        },
        "outputId": "5bac5142-40e7-48bf-e0d8-ec91b5ce19f0"
      },
      "outputs": [
        {
          "output_type": "execute_result",
          "data": {
            "text/plain": [
              "<matplotlib.axes._subplots.AxesSubplot at 0x7fa9a570ee90>"
            ]
          },
          "metadata": {},
          "execution_count": 84
        },
        {
          "output_type": "display_data",
          "data": {
            "image/png": "[encoded data removed]",
            "text/plain": [
              "<Figure size 432x288 with 1 Axes>"
            ]
          },
          "metadata": {
            "needs_background": "light"
          }
        }
      ],
      "source": [
        "''' Museum (\"museum.csv\"): total number of museums per type\n",
        "\n",
        "Plot a bar graph which shows the total number of museums in USA corresponding to the museum type\n",
        "'''\n",
        "\n",
        "# BEGIN YOUR CODE\n",
        "datafile['Museum Type'].value_counts().plot(kind='bar')\n",
        "\n",
        "# END YOUR CODE"
      ]
    },
    {
      "cell_type": "code",
      "execution_count": 85,
      "metadata": {
        "id": "yENY45pIs_S9",
        "colab": {
          "base_uri": "https://localhost:8080/",
          "height": 507
        },
        "outputId": "755de732-9aad-43ef-cd2d-13fd6aa43780"
      },
      "outputs": [
        {
          "output_type": "execute_result",
          "data": {
            "text/plain": [
              "<matplotlib.axes._subplots.AxesSubplot at 0x7fa9a57943d0>"
            ]
          },
          "metadata": {},
          "execution_count": 85
        },
        {
          "output_type": "display_data",
          "data": {
            "image/png": "[encoded data removed]",
            "text/plain": [
              "<Figure size 1152x576 with 1 Axes>"
            ]
          },
          "metadata": {
            "needs_background": "light"
          }
        }
      ],
      "source": [
        "''' Museum (\"museum.csv\"): total number of museums per state\n",
        "\n",
        "Plot a graph which shows the total number of museums per each state (\"State (Physical Location)\")\n",
        "'''\n",
        "\n",
        "# BEGIN YOUR CODE\n",
        "fig, ax = plt.subplots(figsize = (16,8))\n",
        "datafile['State (Physical Location)'].value_counts().plot(kind ='bar', ax=ax)\n",
        "\n",
        "\n",
        "# END YOUR CODE"
      ]
    },
    {
      "cell_type": "markdown",
      "metadata": {
        "id": "Oo6h1NH6R6Pq"
      },
      "source": [
        "#### Results analyzing\n",
        "\n",
        "Analyze the graph and answer the following two questions:\n",
        "\n",
        "**1) What is your inference from the above graph?**\n",
        "\n",
        "*YOUR ANSWER:* We can see from the graph that \"NY\" and \"CA\" have the most number of museums which is more than 600 of them. Whereas \"UT\" and \"DE\" has the least number of museums which is less than a 100.\n",
        "\n",
        "**2) Which state has the most number of museum?**\n",
        "\n",
        "*YOUR ANSWER:* \"NY\"\n",
        "\n",
        "**3) Which is the most common type of museum?**\n",
        "\n",
        "*YOUR ANSWER:* \"Historic Preservation\"\n"
      ]
    },
    {
      "cell_type": "markdown",
      "metadata": {
        "id": "toxZCPhevnni"
      },
      "source": [
        "## References Used\n",
        "\n",
        "**List below all the references you used to complete the assignment**"
      ]
    },
    {
      "cell_type": "code",
      "execution_count": null,
      "metadata": {
        "id": "YW_6TvjFrilZ"
      },
      "outputs": [],
      "source": [
        "TA's tutorial videos.\n",
        "NumPy.org\n",
        "https://pandasguide.readthedocs.io/en/\n",
        "https://www.geeksforgeeks.org/python-programming-language/\n",
        "https://matplotlib.org\n",
        "\n"
      ]
    }
  ],
  "metadata": {
    "celltoolbar": "Raw Cell Format",
    "colab": {
      "collapsed_sections": [],
      "name": "spring22_cse574_c&d_Assignment_1.ipynb",
      "provenance": []
    },
    "kernelspec": {
      "display_name": "Python 3",
      "language": "python",
      "name": "python3"
    },
    "language_info": {
      "codemirror_mode": {
        "name": "ipython",
        "version": 3
      },
      "file_extension": ".py",
      "mimetype": "text/x-python",
      "name": "python",
      "nbconvert_exporter": "python",
      "pygments_lexer": "ipython3",
      "version": "3.6.13"
    }
  },
  "nbformat": 4,
  "nbformat_minor": 0
}